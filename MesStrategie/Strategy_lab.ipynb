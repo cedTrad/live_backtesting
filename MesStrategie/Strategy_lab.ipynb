{
 "cells": [
  {
   "cell_type": "code",
   "execution_count": 2,
   "metadata": {},
   "outputs": [],
   "source": [
    "import pandas as pd\n",
    "import numpy as np\n",
    "import sqlalchemy\n",
    "from datetime import datetime\n",
    "import time\n",
    "import ta\n",
    "import plotly.express as px\n",
    "import plotly.graph_objects as go\n",
    "from plotly.subplots import make_subplots\n",
    "from IPython.display import clear_output\n",
    "\n",
    "import warnings\n",
    "warnings.filterwarnings('ignore')\n",
    "\n",
    "%load_ext autoreload\n",
    "%autoreload 2\n",
    "\n",
    "path = \"C:/Users/cc/Desktop/CedAlgo/AlgoTrading/database/\"\n",
    "\n",
    "def get_database(Id , interval):\n",
    "    engine = sqlalchemy.create_engine('sqlite:///'+path+'database_{}.db'.format(interval))\n",
    "    \n",
    "    data = pd.read_sql(Id+'USDT' ,engine)\n",
    "    data.set_index('time' , inplace=True)\n",
    "    data['volume'] = pd.to_numeric(data['volume'])\n",
    "    data = data[['open', 'high', 'low' , 'close' , 'volume', 'symbol', 'close_time']]\n",
    "    return data\n",
    "\n",
    "\n",
    "def get_multi_base(interval, table = 'close'):\n",
    "    engine = sqlalchemy.create_engine('sqlite:///'+path+'database_multi_{}.db'.format(interval))\n",
    "    data = pd.read_sql(table ,engine)\n",
    "    data.set_index('time', inplace = True)\n",
    "    data.dropna(inplace = True)\n",
    "    return data\n",
    "\n"
   ]
  },
  {
   "cell_type": "code",
   "execution_count": 3,
   "metadata": {},
   "outputs": [
    {
     "data": {
      "text/html": [
       "<div>\n",
       "<style scoped>\n",
       "    .dataframe tbody tr th:only-of-type {\n",
       "        vertical-align: middle;\n",
       "    }\n",
       "\n",
       "    .dataframe tbody tr th {\n",
       "        vertical-align: top;\n",
       "    }\n",
       "\n",
       "    .dataframe thead th {\n",
       "        text-align: right;\n",
       "    }\n",
       "</style>\n",
       "<table border=\"1\" class=\"dataframe\">\n",
       "  <thead>\n",
       "    <tr style=\"text-align: right;\">\n",
       "      <th></th>\n",
       "      <th>BTC</th>\n",
       "      <th>ETH</th>\n",
       "    </tr>\n",
       "    <tr>\n",
       "      <th>time</th>\n",
       "      <th></th>\n",
       "      <th></th>\n",
       "    </tr>\n",
       "  </thead>\n",
       "  <tbody>\n",
       "    <tr>\n",
       "      <th>2021-09-13</th>\n",
       "      <td>44940.73</td>\n",
       "      <td>3285.35</td>\n",
       "    </tr>\n",
       "    <tr>\n",
       "      <th>2021-09-14</th>\n",
       "      <td>47111.52</td>\n",
       "      <td>3434.37</td>\n",
       "    </tr>\n",
       "    <tr>\n",
       "      <th>2021-09-15</th>\n",
       "      <td>48121.41</td>\n",
       "      <td>3613.55</td>\n",
       "    </tr>\n",
       "    <tr>\n",
       "      <th>2021-09-16</th>\n",
       "      <td>47737.82</td>\n",
       "      <td>3567.98</td>\n",
       "    </tr>\n",
       "    <tr>\n",
       "      <th>2021-09-17</th>\n",
       "      <td>47299.98</td>\n",
       "      <td>3399.81</td>\n",
       "    </tr>\n",
       "  </tbody>\n",
       "</table>\n",
       "</div>"
      ],
      "text/plain": [
       "                 BTC      ETH\n",
       "time                         \n",
       "2021-09-13  44940.73  3285.35\n",
       "2021-09-14  47111.52  3434.37\n",
       "2021-09-15  48121.41  3613.55\n",
       "2021-09-16  47737.82  3567.98\n",
       "2021-09-17  47299.98  3399.81"
      ]
     },
     "execution_count": 3,
     "metadata": {},
     "output_type": "execute_result"
    }
   ],
   "source": [
    "data = get_multi_base(\"1d\")\n",
    "\n",
    "asset = [\"BTC\", \"ETH\"]\n",
    "data = data[asset]\n",
    "\n",
    "symbols = data.columns\n",
    "data.head()"
   ]
  },
  {
   "cell_type": "code",
   "execution_count": 4,
   "metadata": {},
   "outputs": [
    {
     "data": {
      "text/html": [
       "<div>\n",
       "<style scoped>\n",
       "    .dataframe tbody tr th:only-of-type {\n",
       "        vertical-align: middle;\n",
       "    }\n",
       "\n",
       "    .dataframe tbody tr th {\n",
       "        vertical-align: top;\n",
       "    }\n",
       "\n",
       "    .dataframe thead th {\n",
       "        text-align: right;\n",
       "    }\n",
       "</style>\n",
       "<table border=\"1\" class=\"dataframe\">\n",
       "  <thead>\n",
       "    <tr style=\"text-align: right;\">\n",
       "      <th></th>\n",
       "      <th>BTC</th>\n",
       "      <th>ETH</th>\n",
       "      <th>BTC_returns</th>\n",
       "      <th>BTC_cum_rets</th>\n",
       "      <th>ETH_returns</th>\n",
       "      <th>ETH_cum_rets</th>\n",
       "    </tr>\n",
       "    <tr>\n",
       "      <th>time</th>\n",
       "      <th></th>\n",
       "      <th></th>\n",
       "      <th></th>\n",
       "      <th></th>\n",
       "      <th></th>\n",
       "      <th></th>\n",
       "    </tr>\n",
       "  </thead>\n",
       "  <tbody>\n",
       "    <tr>\n",
       "      <th>2021-09-13</th>\n",
       "      <td>44940.73</td>\n",
       "      <td>3285.35</td>\n",
       "      <td>NaN</td>\n",
       "      <td>NaN</td>\n",
       "      <td>NaN</td>\n",
       "      <td>NaN</td>\n",
       "    </tr>\n",
       "    <tr>\n",
       "      <th>2021-09-14</th>\n",
       "      <td>47111.52</td>\n",
       "      <td>3434.37</td>\n",
       "      <td>0.048303</td>\n",
       "      <td>1.048303</td>\n",
       "      <td>0.045359</td>\n",
       "      <td>1.045359</td>\n",
       "    </tr>\n",
       "    <tr>\n",
       "      <th>2021-09-15</th>\n",
       "      <td>48121.41</td>\n",
       "      <td>3613.55</td>\n",
       "      <td>0.021436</td>\n",
       "      <td>1.070775</td>\n",
       "      <td>0.052173</td>\n",
       "      <td>1.099898</td>\n",
       "    </tr>\n",
       "    <tr>\n",
       "      <th>2021-09-16</th>\n",
       "      <td>47737.82</td>\n",
       "      <td>3567.98</td>\n",
       "      <td>-0.007971</td>\n",
       "      <td>1.062240</td>\n",
       "      <td>-0.012611</td>\n",
       "      <td>1.086027</td>\n",
       "    </tr>\n",
       "    <tr>\n",
       "      <th>2021-09-17</th>\n",
       "      <td>47299.98</td>\n",
       "      <td>3399.81</td>\n",
       "      <td>-0.009172</td>\n",
       "      <td>1.052497</td>\n",
       "      <td>-0.047133</td>\n",
       "      <td>1.034840</td>\n",
       "    </tr>\n",
       "  </tbody>\n",
       "</table>\n",
       "</div>"
      ],
      "text/plain": [
       "                 BTC      ETH  BTC_returns  BTC_cum_rets  ETH_returns  \\\n",
       "time                                                                    \n",
       "2021-09-13  44940.73  3285.35          NaN           NaN          NaN   \n",
       "2021-09-14  47111.52  3434.37     0.048303      1.048303     0.045359   \n",
       "2021-09-15  48121.41  3613.55     0.021436      1.070775     0.052173   \n",
       "2021-09-16  47737.82  3567.98    -0.007971      1.062240    -0.012611   \n",
       "2021-09-17  47299.98  3399.81    -0.009172      1.052497    -0.047133   \n",
       "\n",
       "            ETH_cum_rets  \n",
       "time                      \n",
       "2021-09-13           NaN  \n",
       "2021-09-14      1.045359  \n",
       "2021-09-15      1.099898  \n",
       "2021-09-16      1.086027  \n",
       "2021-09-17      1.034840  "
      ]
     },
     "execution_count": 4,
     "metadata": {},
     "output_type": "execute_result"
    }
   ],
   "source": [
    "symbols = data.columns\n",
    "\n",
    "for symbol in symbols:\n",
    "    data[symbol+\"_returns\"] = data[symbol].pct_change()\n",
    "    data[symbol+\"_cum_rets\"] = (data[symbol+\"_returns\"] + 1).cumprod()\n",
    "\n",
    "data.head()"
   ]
  },
  {
   "attachments": {},
   "cell_type": "markdown",
   "metadata": {},
   "source": [
    "## Basic mean reversion"
   ]
  },
  {
   "attachments": {},
   "cell_type": "markdown",
   "metadata": {},
   "source": [
    "### Regle"
   ]
  },
  {
   "attachments": {},
   "cell_type": "markdown",
   "metadata": {},
   "source": [
    " 1. Indicateurs : APO , params : 10 days, K_FAST, K_SLOW\n",
    " 2. Conditions buy : APO < -10\n",
    " 3. Conditions sell : APO > 10\n",
    " 4. Others close condition : Quand le return aura atteint un certains niveau, MIN_PROFIT_TO_CLOSE"
   ]
  },
  {
   "cell_type": "code",
   "execution_count": null,
   "metadata": {},
   "outputs": [],
   "source": []
  },
  {
   "attachments": {},
   "cell_type": "markdown",
   "metadata": {},
   "source": [
    "## Basic trend following"
   ]
  },
  {
   "attachments": {},
   "cell_type": "markdown",
   "metadata": {},
   "source": [
    "### Regle"
   ]
  },
  {
   "cell_type": "code",
   "execution_count": null,
   "metadata": {},
   "outputs": [],
   "source": []
  },
  {
   "attachments": {},
   "cell_type": "markdown",
   "metadata": {},
   "source": [
    "## Volatility_trend_following"
   ]
  },
  {
   "cell_type": "code",
   "execution_count": null,
   "metadata": {},
   "outputs": [],
   "source": []
  },
  {
   "attachments": {},
   "cell_type": "markdown",
   "metadata": {},
   "source": [
    "## Volatility_mean_reversion"
   ]
  },
  {
   "attachments": {},
   "cell_type": "markdown",
   "metadata": {},
   "source": [
    "### Regle"
   ]
  },
  {
   "cell_type": "code",
   "execution_count": null,
   "metadata": {},
   "outputs": [],
   "source": []
  },
  {
   "cell_type": "code",
   "execution_count": null,
   "metadata": {},
   "outputs": [],
   "source": []
  }
 ],
 "metadata": {
  "kernelspec": {
   "display_name": "Python 3",
   "language": "python",
   "name": "python3"
  },
  "language_info": {
   "codemirror_mode": {
    "name": "ipython",
    "version": 3
   },
   "file_extension": ".py",
   "mimetype": "text/x-python",
   "name": "python",
   "nbconvert_exporter": "python",
   "pygments_lexer": "ipython3",
   "version": "3.9.6"
  },
  "orig_nbformat": 4,
  "vscode": {
   "interpreter": {
    "hash": "dacff523af297f253b96c08a95a52f4913b3d66f2abacce976f8fdea6b18462e"
   }
  }
 },
 "nbformat": 4,
 "nbformat_minor": 2
}
