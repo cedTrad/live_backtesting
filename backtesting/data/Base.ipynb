{
 "cells": [
  {
   "cell_type": "code",
   "execution_count": 1,
   "metadata": {},
   "outputs": [],
   "source": [
    "import pandas as pd\n",
    "import sqlalchemy\n",
    "import datetime\n",
    "from binance.client import Client\n",
    "import time\n",
    "import pytz\n",
    "from IPython.display import clear_output\n",
    "\n",
    "\n",
    "def createEngine(interval = '1h'):\n",
    "    return sqlalchemy.create_engine('sqlite:///database_{}.db'.format(interval))\n",
    "\n",
    "def asset_binance():\n",
    "    pair = [] ; coins = [] ; quotes = []\n",
    "    while 1:\n",
    "        try:\n",
    "            client = Client()\n",
    "            exchange_info = client.get_exchange_info()\n",
    "            break\n",
    "        except:\n",
    "            \"404\"            \n",
    "    for s in exchange_info['symbols']:\n",
    "        coins.append(s['baseAsset'])\n",
    "    coins = list(set(coins))\n",
    "    return coins\n",
    "\n",
    "asset = asset_binance()\n",
    "interval_defaut = '1h'\n",
    "\n",
    "\n",
    "def tableName(engine):\n",
    "    ins = sqlalchemy.inspect(engine)\n",
    "    return ins.get_table_names()\n",
    "\n",
    "# Structurer les donnees\n",
    "def structureData(X, symbol):\n",
    "    data = X\n",
    "    data.columns = ['time','open', 'high', 'low', 'close', 'volume', 'close_time', 'qav', 'num_trades', 'taker_base_vol', 'taker_quote_vol','is_best_match']\n",
    "    data['time'] = pd.to_datetime(data['time'], unit = 'ms')\n",
    "    data['close'] = pd.to_numeric(data['close'])\n",
    "    data['open'] = pd.to_numeric(data['open'])\n",
    "    data['high'] = pd.to_numeric(data['high'])\n",
    "    data['low'] = pd.to_numeric(data['low'])\n",
    "    data['volume'] = pd.to_numeric(data['volume'])\n",
    "    data['symbol'] = symbol\n",
    "    return data\n",
    "\n",
    "#  Importation data\n",
    "def LoadData(symbol, start, interval , label = 'fiat'):\n",
    "    while 1 :\n",
    "        try:\n",
    "            client = Client()\n",
    "            break\n",
    "        except:\n",
    "            \"error client \"\n",
    "            \n",
    "    X = pd.DataFrame(client.get_historical_klines(symbol=symbol, start_str=start, interval=interval))\n",
    "    data =  structureData(X, symbol)\n",
    "    engine = createEngine(interval)\n",
    "    try:\n",
    "        data.to_sql(symbol, engine)\n",
    "    except:\n",
    "        \"Erreur inconnu au niveau de loadData \"\n",
    "    \n",
    "    \n",
    "\n",
    "def Load_data(token, interval , start , label = 'fiat'):\n",
    "    engine = createEngine(interval)\n",
    "    pairExistant = tableName(engine)\n",
    "    symbol = token+'USDT'\n",
    "    \n",
    "    if symbol in pairExistant:\n",
    "        data = pd.read_sql(symbol, engine)\n",
    "        if interval == '1d':\n",
    "            lastDate = data.iloc[-1]['time'] + datetime.timedelta(days = 1)\n",
    "        elif interval == '1h':\n",
    "            lastDate = data.iloc[-1]['time'] + datetime.timedelta(hours = 1)\n",
    "            \n",
    "        Start = \"{}-{}-{} {}:{}:{}\".format(lastDate.year, lastDate.month, lastDate.day, lastDate.hour, lastDate.minute, lastDate.second)\n",
    "        utc = pytz.utc\n",
    "        today = datetime.datetime.now(utc)\n",
    "        today = datetime.datetime(today.year , today.month , today.day , today.hour)\n",
    "        diff = today - lastDate\n",
    "        days = diff.days\n",
    "        hour = diff.seconds/3600\n",
    "        \n",
    "        if (days == 0 and hour > 0) or (days > 0):\n",
    "            i = 0\n",
    "            while i<50:\n",
    "                try :\n",
    "                    client = Client()\n",
    "                    break\n",
    "                except:\n",
    "                    \"error client\"\n",
    "            \n",
    "            X = client.get_historical_klines(symbol = symbol, start_str = Start , interval = interval)\n",
    "            X = pd.DataFrame(X)\n",
    "            data_add = structureData(X , symbol)\n",
    "            data_add.to_sql(symbol , engine , if_exists = 'append' , index = True) \n",
    "            print('     Updated     ')\n",
    "        elif (days == 0) and (hour == today.hour) :\n",
    "            print('last : ',data['time'][-1])\n",
    "            print(\"Already updated\")\n",
    "        else:\n",
    "            \"Please , try later\"\n",
    "            print(f\"{token} already update , try later for a update\")  \n",
    "    else:\n",
    "        LoadData(symbol , start , interval, label)\n",
    "        print(\"{token} successful load\")   \n",
    "        \n",
    "def load_data(asset ,interval):\n",
    "    i= 1 ; n = len(asset)\n",
    "    begin = '1 Jan, 2017'\n",
    "    fail = []\n",
    "    for token in asset:\n",
    "        clear_output(wait = True)\n",
    "        print(f\"numero : {i} / {n} \\n token : {token}\")\n",
    "        i += 1\n",
    "        try:\n",
    "            Load_data(token , interval , begin)\n",
    "            time.sleep(0.1)\n",
    "        except:\n",
    "            fail.append(token) "
   ]
  },
  {
   "cell_type": "code",
   "execution_count": 2,
   "metadata": {},
   "outputs": [
    {
     "name": "stdout",
     "output_type": "stream",
     "text": [
      "numero : 11 / 11 \n",
      " token : QNT\n",
      "{token} successful load\n"
     ]
    }
   ],
   "source": [
    "MyAsset = ['CELR', 'XMR', 'ETH', 'SOL', 'EGLD', 'BTC', 'VET', 'GALA', 'LTC', 'DASH',\n",
    "         'BNB', 'DOT', 'SC', 'MATIC', 'TWT', 'QNT']\n",
    "MyAsset1 = ['ETH', 'SOL', 'EGLD', 'BTC', 'GALA', 'DASH','BNB', 'DOT', 'MATIC', 'TWT', 'QNT']\n",
    "load_data(MyAsset1 , '1d')\n",
    "load_data(MyAsset1 , '1h')"
   ]
  },
  {
   "cell_type": "code",
   "execution_count": null,
   "metadata": {},
   "outputs": [],
   "source": [
    "load_data(MyAsset , '12h')"
   ]
  },
  {
   "cell_type": "code",
   "execution_count": 3,
   "metadata": {},
   "outputs": [
    {
     "name": "stdout",
     "output_type": "stream",
     "text": [
      "numero : 506 / 506 \n",
      " token : RAMP\n"
     ]
    }
   ],
   "source": [
    "load_data(asset , '1d')\n",
    "#load_data(asset , '1h')"
   ]
  }
 ],
 "metadata": {
  "interpreter": {
   "hash": "dacff523af297f253b96c08a95a52f4913b3d66f2abacce976f8fdea6b18462e"
  },
  "kernelspec": {
   "display_name": "Python 3.9.6 64-bit",
   "language": "python",
   "name": "python3"
  },
  "language_info": {
   "codemirror_mode": {
    "name": "ipython",
    "version": 3
   },
   "file_extension": ".py",
   "mimetype": "text/x-python",
   "name": "python",
   "nbconvert_exporter": "python",
   "pygments_lexer": "ipython3",
   "version": "3.9.6"
  }
 },
 "nbformat": 4,
 "nbformat_minor": 2
}
