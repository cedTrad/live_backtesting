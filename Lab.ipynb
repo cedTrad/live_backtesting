{
 "cells": [
  {
   "cell_type": "code",
   "execution_count": 2,
   "metadata": {
    "notebookRunGroups": {
     "groupValue": "2"
    }
   },
   "outputs": [
    {
     "name": "stdout",
     "output_type": "stream",
     "text": [
      "wait ...\n",
      "2023-01-21 01:00 {'LONG': False, 'SHORT': False}\n",
      "-btc\n",
      "2023-01-22 01:00 {'LONG': False, 'SHORT': False}\n",
      "-btc\n",
      "2023-01-23 01:00 {'LONG': False, 'SHORT': False}\n",
      "-btc\n",
      "2023-01-24 01:00 {'LONG': False, 'SHORT': True}\n",
      "-btc\n",
      "2023-01-25 01:00 {'LONG': True, 'SHORT': False}\n",
      "-btc\n",
      "2023-01-26 01:00 {'LONG': True, 'SHORT': False}\n",
      "-btc\n"
     ]
    }
   ],
   "source": [
    "from IPython.display import clear_output\n",
    "from app import App\n",
    "\n",
    "import warnings\n",
    "warnings.filterwarnings('ignore')\n",
    "\n",
    "%load_ext autoreload\n",
    "%autoreload 2\n",
    "\n",
    "SYMBOLS = [\"BTCUSDT\", \"ETHUSDT\", \"SOLUSDT\"]\n",
    "\n",
    "app = App(symbols=SYMBOLS)\n",
    "app.run()"
   ]
  },
  {
   "attachments": {},
   "cell_type": "markdown",
   "metadata": {},
   "source": [
    "## Socket"
   ]
  },
  {
   "cell_type": "code",
   "execution_count": null,
   "metadata": {},
   "outputs": [],
   "source": [
    "import zmq\n",
    "import pandas as pd\n",
    "import numpy as np\n",
    "import sqlalchemy\n",
    "from datetime import datetime\n",
    "import time\n",
    "\n",
    "import asyncio\n",
    "\n",
    "\n",
    "\n",
    "def connect_server(symbol):\n",
    "    context = zmq.Context()\n",
    "    socket = context.socket(zmq.SUB)\n",
    "    socket.connect('tcp://127.0.0.1:8080')\n",
    "    socket.setsockopt_string(zmq.SUBSCRIBE, symbol)\n",
    "    return socket\n",
    "\n",
    "def get_data(socket):\n",
    "    data = socket.recv_string()\n",
    "    _, date , opEn, high , low, close, volume, stop = data.split()\n",
    "    date = datetime.fromtimestamp(float(date))\n",
    "    d = {'open':float(opEn), 'low':float(low),\n",
    "        'high':float(high), 'close':float(close), 'volume':float(volume)}\n",
    "    return d, stop\n",
    "\n",
    "\n",
    "while True:\n",
    "\n",
    "    socket_1 = connect_server(symbol = \"ETHUSDT\")\n",
    "    d1, stop = get_data(socket_1)\n",
    "    print(d1)\n",
    "    \n",
    "    socket_2 = connect_server(symbol = \"BTCUSDT\")\n",
    "    d2, stop = get_data(socket_2)\n",
    "    print(d2)"
   ]
  },
  {
   "attachments": {},
   "cell_type": "markdown",
   "metadata": {},
   "source": [
    "# Session management"
   ]
  },
  {
   "cell_type": "code",
   "execution_count": null,
   "metadata": {},
   "outputs": [],
   "source": [
    "import time \n",
    "import datetime\n",
    "\n",
    "# durer session : 7 jours\n",
    "# day trading\n",
    "\n",
    "class SessionMangement:\n",
    "    \n",
    "    def __init__(self):\n",
    "        self.durer_jrs = 7\n",
    "        self.today = 0\n",
    "        \n",
    "        \n",
    "    def new_session(self, start_date):\n",
    "        self.start_date = start_date\n",
    "        self.end_date = start_date\n",
    "        \n",
    "        \n",
    "    def next_days(self):\n",
    "        self.today =+ 1\n",
    "        \n",
    "        \n",
    "    def start_session(self):\n",
    "        \"\"\n",
    "    \n",
    "    def end_sessions(self):\n",
    "        \"\"\n",
    "        "
   ]
  },
  {
   "cell_type": "code",
   "execution_count": null,
   "metadata": {},
   "outputs": [],
   "source": [
    "import pandas as pd\n",
    "import numpy as np\n",
    "\n",
    "arrays = [\n",
    "    [\"bar\", \"bar\", \"baz\", \"baz\", \"foo\", \"foo\", \"qux\", \"qux\"],\n",
    "    [\"one\", \"two\", \"one\", \"two\", \"one\", \"two\", \"one\", \"two\"],\n",
    "]\n",
    "\n",
    "tuples = list(zip(*arrays))\n",
    "\n",
    "#index = pd.MultiIndex.from_tuples(tuples, names=[\"first\", \"second\"])\n",
    "index = pd.MultiIndex.from_tuples(tuples)\n",
    "\n",
    "df = pd.DataFrame(np.random.randn(3, 8), index=[\"A\", \"B\", \"C\"], columns=index)\n",
    "df"
   ]
  },
  {
   "cell_type": "code",
   "execution_count": null,
   "metadata": {},
   "outputs": [],
   "source": [
    "# silence warnings\n",
    "import warnings\n",
    "warnings.filterwarnings('ignore')\n",
    "\n",
    "import yfinance as yf\n",
    "import pyfolio as pf\n",
    "%matplotlib inline"
   ]
  },
  {
   "cell_type": "code",
   "execution_count": null,
   "metadata": {},
   "outputs": [],
   "source": [
    "fb = yf.Ticker('FB')\n",
    "history = fb.history('max')\n",
    "history.index = history.index.tz_localize('utc')\n",
    "\n",
    "returns = history.Close.pct_change()\n",
    "pf.create_returns_tear_sheet(returns, live_start_date='2020-1-1')"
   ]
  },
  {
   "cell_type": "code",
   "execution_count": null,
   "metadata": {},
   "outputs": [],
   "source": []
  }
 ],
 "metadata": {
  "kernelspec": {
   "display_name": "Python 3.9.6 64-bit",
   "language": "python",
   "name": "python3"
  },
  "language_info": {
   "codemirror_mode": {
    "name": "ipython",
    "version": 3
   },
   "file_extension": ".py",
   "mimetype": "text/x-python",
   "name": "python",
   "nbconvert_exporter": "python",
   "pygments_lexer": "ipython3",
   "version": "3.9.6"
  },
  "orig_nbformat": 4,
  "vscode": {
   "interpreter": {
    "hash": "dacff523af297f253b96c08a95a52f4913b3d66f2abacce976f8fdea6b18462e"
   }
  }
 },
 "nbformat": 4,
 "nbformat_minor": 2
}
