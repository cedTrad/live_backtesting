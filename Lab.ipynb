{
 "cells": [
  {
   "cell_type": "code",
   "execution_count": null,
   "metadata": {
    "notebookRunGroups": {
     "groupValue": "2"
    }
   },
   "outputs": [],
   "source": [
    "from IPython.display import clear_output\n",
    "from app import App\n",
    "\n",
    "import warnings\n",
    "warnings.filterwarnings('ignore')\n",
    "\n",
    "%load_ext autoreload\n",
    "%autoreload 2\n",
    "\n",
    "SYMBOLS = [\"BTCUSDT\", \"ETHUSDT\", \"SOLUSDT\"]\n",
    "\n",
    "app = App(symbols=SYMBOLS)\n",
    "app.run()"
   ]
  },
  {
   "attachments": {},
   "cell_type": "markdown",
   "metadata": {},
   "source": [
    "## Socket"
   ]
  },
  {
   "cell_type": "code",
   "execution_count": null,
   "metadata": {},
   "outputs": [],
   "source": [
    "import zmq\n",
    "import pandas as pd\n",
    "import numpy as np\n",
    "import sqlalchemy\n",
    "from datetime import datetime\n",
    "import time\n",
    "\n",
    "import asyncio\n",
    "\n",
    "\n",
    "def connectionectionect_server(symbol):\n",
    "    context = zmq.Context()\n",
    "    socket = context.socket(zmq.SUB)\n",
    "    socket.connectionect('tcp://127.0.0.1:8080')\n",
    "    socket.setsockopt_string(zmq.SUBSCRIBE, symbol)\n",
    "    return socket\n",
    "\n",
    "def get_data(socket):\n",
    "    data = socket.recv_string()\n",
    "    _, date , opEn, high , low, close, volume, stop = data.split()\n",
    "    date = datetime.fromtimestamp(float(date))\n",
    "    d = {'open':float(opEn), 'low':float(low),\n",
    "        'high':float(high), 'close':float(close), 'volume':float(volume)}\n",
    "    return d, stop\n",
    "\n",
    "\n",
    "while True:\n",
    "\n",
    "    socket_1 = connect_server(symbol = \"ETHUSDT\")\n",
    "    d1, stop = get_data(socket_1)\n",
    "    print(d1)\n",
    "    \n",
    "    socket_2 = connect_server(symbol = \"BTCUSDT\")\n",
    "    d2, stop = get_data(socket_2)\n",
    "    print(d2)"
   ]
  },
  {
   "attachments": {},
   "cell_type": "markdown",
   "metadata": {},
   "source": [
    "# Session management"
   ]
  },
  {
   "cell_type": "code",
   "execution_count": null,
   "metadata": {},
   "outputs": [],
   "source": [
    "import time \n",
    "import datetime\n",
    "\n",
    "# durer session : 7 jours\n",
    "# day trading\n",
    "\n",
    "class SessionMangement:\n",
    "    \n",
    "    def __init__(self):\n",
    "        self.durer_jrs = 7\n",
    "        self.today = 0\n",
    "        \n",
    "        \n",
    "    def new_session(self, start_date):\n",
    "        self.start_date = start_date\n",
    "        self.end_date = start_date\n",
    "        \n",
    "        \n",
    "    def next_days(self):\n",
    "        self.today =+ 1\n",
    "        \n",
    "        \n",
    "    def start_session(self):\n",
    "        \"\"\n",
    "    \n",
    "    def end_sessions(self):\n",
    "        \"\"\n",
    "        "
   ]
  },
  {
   "cell_type": "code",
   "execution_count": null,
   "metadata": {},
   "outputs": [],
   "source": [
    "import pandas as pd\n",
    "import numpy as np\n",
    "\n",
    "arrays = [\n",
    "    [\"bar\", \"bar\", \"baz\", \"baz\", \"foo\", \"foo\", \"qux\", \"qux\"],\n",
    "    [\"one\", \"two\", \"one\", \"two\", \"one\", \"two\", \"one\", \"two\"],\n",
    "]\n",
    "\n",
    "tuples = list(zip(*arrays))\n",
    "\n",
    "#index = pd.MultiIndex.from_tuples(tuples, names=[\"first\", \"second\"])\n",
    "index = pd.MultiIndex.from_tuples(tuples)\n",
    "\n",
    "df = pd.DataFrame(np.random.randn(3, 8), index=[\"A\", \"B\", \"C\"], columns=index)\n",
    "df"
   ]
  },
  {
   "cell_type": "code",
   "execution_count": null,
   "metadata": {},
   "outputs": [],
   "source": []
  },
  {
   "cell_type": "code",
   "execution_count": null,
   "metadata": {},
   "outputs": [],
   "source": [
    "import pandas as pd\n",
    "import numpy as np\n",
    "import json\n",
    "import websocket\n",
    "from datetime import datetime\n",
    "import time\n",
    "from urllib.parse import urljoin, urlencode\n",
    "import requests\n",
    "\n",
    "\n",
    "def server_time():\n",
    "    base_url = \"https://testnet.binancefuture.com\"\n",
    "    path = \"/fapi/v1/time\"\n",
    "    url = urljoin(base_url, path)\n",
    "    servertime = requests.get(url).json()\n",
    "    ServerTime = datetime.fromtimestamp(servertime['serverTime']/1000)\n",
    "    return ServerTime\n",
    "\n",
    "\n",
    "class App:\n",
    "    \n",
    "    def __init__(self):\n",
    "        self.url = \"wss://stream.binancefuture.com/ws/\"\n",
    "        self.data = pd.DataFrame()\n",
    "        \n",
    "        \n",
    "    def on_open(self, ws):\n",
    "        print(\"open connection\")\n",
    "        INT = '5m'\n",
    "        params = json.dumps({\n",
    "            \"method\" : \"SUBSCRIBE\",\n",
    "            \"params\" : ['btcusdt@kline_'+INT, 'ethusdt@kline_'+INT, 'solusdt@kline_'+INT]\n",
    "        })\n",
    "        ws.send(params)\n",
    "        \n",
    "        \n",
    "    def on_message(self, ws, data):\n",
    "        data = json.loads(data)\n",
    "        print(data)\n",
    "        add = {\n",
    "            'open' : data['k']['o'],\n",
    "            'high' : data['k']['h'],\n",
    "            'low' : data['k']['l'],\n",
    "            'close' : data['k']['c'],\n",
    "            'volume' : data['k']['v'],\n",
    "            'kclosed' : data['k']['x'],\n",
    "            'symbol' : data['s']\n",
    "        }\n",
    "        time = data['k']['T']\n",
    "        time = datetime.fromtimestamp(time/1000)\n",
    "        add['closeTime'] = time\n",
    "        \n",
    "        startime = datetime.fromtimestamp(data['k']['t']/1000)\n",
    "        add['startime'] = startime\n",
    "        \n",
    "        currentTime = server_time()\n",
    "        \n",
    "        date = time.strftime(\"%Y-%m-%d %H:%M\")\n",
    "            \n",
    "        kclose = data['k']['x']\n",
    "        self.data = self.data.append(\n",
    "            pd.DataFrame(add, index = [currentTime])\n",
    "                )\n",
    "        #if kclose:\n",
    "        #self.data = self.data.resample('1min').last()\n",
    "        display(self.data)\n",
    "        \n",
    "    \n",
    "    def on_error(self, ws, error):\n",
    "            print(\"Error\")\n",
    "            print(error)\n",
    "            #raise error\n",
    "    \n",
    "    def run(self):\n",
    "        ws = websocket.WebSocketApp(self.url,\n",
    "                            on_open = self.on_open,\n",
    "                            on_message = self.on_message,\n",
    "                            on_error = self.on_error\n",
    "                            )\n",
    "        ws.run_forever()\n",
    "\n",
    "\n",
    "\n",
    "\n",
    "app = App()\n",
    "app.run()"
   ]
  },
  {
   "cell_type": "code",
   "execution_count": null,
   "metadata": {},
   "outputs": [],
   "source": [
    "app.data.head()"
   ]
  },
  {
   "cell_type": "code",
   "execution_count": null,
   "metadata": {},
   "outputs": [],
   "source": [
    "app.data.resample('1min').last()"
   ]
  },
  {
   "attachments": {},
   "cell_type": "markdown",
   "metadata": {},
   "source": [
    "# Binance Websocket"
   ]
  },
  {
   "cell_type": "code",
   "execution_count": null,
   "metadata": {},
   "outputs": [],
   "source": [
    "import asyncio\n",
    "import sys\n",
    "import sqlite3\n",
    "import aiosqlite\n",
    "import json\n",
    "\n",
    "connection = sqlite3.connect(\"./data.db\")\n",
    "cursor = connection.cursor()\n",
    "\n",
    "cursor.execute(\"DROP TABLE IF EXISTS trades\")\n",
    "cursor.execute(\"\"\" CREATE TABLE trades (\n",
    "                            id int PRIMARY KEY,\n",
    "                            time int,\n",
    "                            quantity int,\n",
    "                            price float) \"\"\")\n",
    "cursor.execute(\"CREATE INDEX index_time ON trades(time)\")\n",
    "\n",
    "connection.commit()\n",
    "connection.close()"
   ]
  },
  {
   "cell_type": "code",
   "execution_count": null,
   "metadata": {},
   "outputs": [],
   "source": []
  }
 ],
 "metadata": {
  "kernelspec": {
   "display_name": "Python 3.9.6 64-bit",
   "language": "python",
   "name": "python3"
  },
  "language_info": {
   "codemirror_mode": {
    "name": "ipython",
    "version": 3
   },
   "file_extension": ".py",
   "mimetype": "text/x-python",
   "name": "python",
   "nbconvert_exporter": "python",
   "pygments_lexer": "ipython3",
   "version": "3.9.6"
  },
  "orig_nbformat": 4,
  "vscode": {
   "interpreter": {
    "hash": "dacff523af297f253b96c08a95a52f4913b3d66f2abacce976f8fdea6b18462e"
   }
  }
 },
 "nbformat": 4,
 "nbformat_minor": 2
}
