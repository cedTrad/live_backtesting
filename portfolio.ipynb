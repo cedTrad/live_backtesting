{
 "cells": [
  {
   "cell_type": "code",
   "execution_count": 1,
   "metadata": {},
   "outputs": [],
   "source": [
    "import pandas as pd\n",
    "import numpy as np"
   ]
  },
  {
   "cell_type": "code",
   "execution_count": 4,
   "metadata": {},
   "outputs": [
    {
     "name": "stdout",
     "output_type": "stream",
     "text": [
      "1\n"
     ]
    }
   ],
   "source": [
    "j = 0\n",
    "for i in range(10):\n",
    "    j =+ 1\n",
    "print(j)"
   ]
  },
  {
   "cell_type": "code",
   "execution_count": null,
   "metadata": {},
   "outputs": [],
   "source": [
    "import pandas as pd\n",
    "\n",
    "class Portfolio:\n",
    "    \n",
    "    def ____init__(self,symbols):\n",
    "        self.symbols = symbols\n",
    "        self.data = pd.DataFrame()\n",
    "        self.path = \"C:/Users/cc/Desktop/CedAlgo/AlgoTrading/data/\"\n",
    "        self.engineLS = self.engine(folder = \"trade\", symbol = self.symbol, nature=\"LS\")\n",
    "        \n",
    "\n",
    "    def engine(self, symbol, folder, nature = \"\"):\n",
    "        \"\"\"\n",
    "        nature : \"\", LS, CPPI , risk ...\n",
    "        \"\"\"\n",
    "        path = self.path + f\"{folder}/\"\n",
    "        engine = create_engine(\"sqlite:///\"+path+f\"{symbol}_{nature}.db\")\n",
    "        return engine\n",
    "    \n",
    "    def update_account(self, assets):\n",
    "        self.account = {}\n",
    "        for asset in assets:\n",
    "            self.account[asset.symbol] = {\n",
    "                        'quantity' : asset.quantity,\n",
    "                        'amount' : asset.amount,\n",
    "                        'value' : asset.value,\n",
    "                        'position' : asset.position,\n",
    "                        'leverage' : asset.leverage\n",
    "                    }\n",
    "        self.values()\n",
    "    \n",
    "    \n",
    "    def get_asset_items(self, symbol):\n",
    "        return self.account[symbol]\n",
    "    \n",
    "    \n",
    "    def values(self):\n",
    "        self.total_value = 0\n",
    "        self.total_amount = 0\n",
    "        for symbol in self.symbols:\n",
    "            self.total_amount += self.get_asset_items(symbol)['amount']\n",
    "            self.total_value += self.get_asset_items(symbol)['value']\n",
    "    \n",
    "    \n",
    "    \n",
    "    def journal(self, date):\n",
    "        add = {\n",
    "            'value' : self.total_value\n",
    "        }\n",
    "        self.data = self.data.append(\n",
    "            pd.DataFrame(add, index = [date])\n",
    "        ) \n",
    "        path = \"data/\"\n",
    "        engine = create_engine(\"sqlite:///\"+path+\"portfolio.db\")"
   ]
  },
  {
   "cell_type": "code",
   "execution_count": null,
   "metadata": {},
   "outputs": [],
   "source": [
    "class Risk_management:\n",
    "    \n",
    "    def close_position(self, current_position):\n",
    "        if current_position == 1:\n",
    "        \"\"\n",
    "        \n",
    "    def update_leverage(self, leverage):\n",
    "        \"\"\n",
    "    \n",
    "    "
   ]
  },
  {
   "cell_type": "code",
   "execution_count": 5,
   "metadata": {},
   "outputs": [],
   "source": [
    "class Money_management:\n",
    "    \n",
    "    def __init__(self, asset):\n",
    "        self.symbol = asset.symbol\n",
    "        self.asset = asset\n",
    "        \n",
    "        \n",
    "    def config(self, risky_amount, stopLoss, takeProfit, leverage):\n",
    "        self.risky_amount = risky_amount\n",
    "        self.stop_loss = stop_loss\n",
    "        self.takeProfit = take_profit\n",
    "        self.leverage = leverage\n",
    "        \n",
    "    \n",
    "    def statics_metrics(self, price):\n",
    "        self.stopSize = self.risky_amount*(self.price - stop_loss)\n",
    "        self.rewardSize = self.risky_amount*(self.takeProfit - price)\n",
    "        self.R_r = self.rewardSize / self.stopSize\n",
    "        \n",
    "    \n",
    "    def done(self, price):\n",
    "        self.statics_metrics(price)\n",
    "        \n",
    "        quantity = self.risky_amount / price\n",
    "        \n",
    "        return quantity\n",
    "        "
   ]
  },
  {
   "cell_type": "code",
   "execution_count": null,
   "metadata": {},
   "outputs": [],
   "source": []
  }
 ],
 "metadata": {
  "kernelspec": {
   "display_name": "Python 3",
   "language": "python",
   "name": "python3"
  },
  "language_info": {
   "codemirror_mode": {
    "name": "ipython",
    "version": 3
   },
   "file_extension": ".py",
   "mimetype": "text/x-python",
   "name": "python",
   "nbconvert_exporter": "python",
   "pygments_lexer": "ipython3",
   "version": "3.9.6"
  },
  "orig_nbformat": 4,
  "vscode": {
   "interpreter": {
    "hash": "dacff523af297f253b96c08a95a52f4913b3d66f2abacce976f8fdea6b18462e"
   }
  }
 },
 "nbformat": 4,
 "nbformat_minor": 2
}
