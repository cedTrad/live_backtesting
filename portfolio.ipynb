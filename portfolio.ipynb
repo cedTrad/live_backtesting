{
 "cells": [
  {
   "cell_type": "code",
   "execution_count": 1,
   "metadata": {},
   "outputs": [],
   "source": [
    "import pandas as pd\n",
    "import numpy as np\n",
    "import sqlalchemy\n",
    "from datetime import datetime\n",
    "import time\n",
    "from IPython.display import clear_output\n",
    "\n",
    "%load_ext autoreload\n",
    "%autoreload 2"
   ]
  },
  {
   "cell_type": "code",
   "execution_count": 2,
   "metadata": {},
   "outputs": [],
   "source": [
    "class Token:\n",
    "    \n",
    "    def __init__(self, name, quantity = None, value = None):\n",
    "        self.name = name\n",
    "        self.base = \"USDT\"\n",
    "        self.symbol = self.pair()\n",
    "        self.quantity = quantity\n",
    "        self.value = value\n",
    "        self.margin = None\n",
    "    \n",
    "    def pair(self):\n",
    "        return self.name+self.base\n",
    "    \n",
    "    def current_value(self, price):\n",
    "        return self.quantity * price\n",
    "    \n",
    "    def update(self, quantity, price):\n",
    "        self.quantity = quantity\n",
    "        self.value = self.current_value(price)\n",
    "        "
   ]
  },
  {
   "cell_type": "code",
   "execution_count": 3,
   "metadata": {},
   "outputs": [],
   "source": [
    "class Portfolio:\n",
    "    \n",
    "    def __init__(self):\n",
    "        self.tokens = {}\n",
    "        \n",
    "    def add_token(self, token):  # token : class Token , token(name = \"BTC\")\n",
    "        self.tokens[token.name] = token\n",
    "        self.update()\n",
    "    \n",
    "    def drop_token(self, name): # token : class Token\n",
    "        del self.tokens[name]\n",
    "        self.update()\n",
    "        \n",
    "    def set_symbols(self):\n",
    "        temp_list = []\n",
    "        for token in self.tokens.values():\n",
    "            temp_list.append(token.symbol)\n",
    "        return temp_list\n",
    "    \n",
    "    \n",
    "    def net_value(self):\n",
    "        temp_list = []\n",
    "        for token in self.tokens.values():\n",
    "            temp_list.append(token.value)\n",
    "            \n",
    "        temp_list = np.array(temp_list)\n",
    "        return np.sum(temp_list)\n",
    "        \n",
    "        \n",
    "    def set_weight(self):\n",
    "        temp_dict = {}\n",
    "        for token in self.tokens.values():\n",
    "            weight = token.value / self.net_wealth\n",
    "            temp_dict[token.name] = weight\n",
    "            \n",
    "        return temp_dict\n",
    "    \n",
    "    \n",
    "    def update(self):\n",
    "        self.symbols = self.set_symbols()\n",
    "        self.net_wealth = self.net_value()\n",
    "        self.weights = self.set_weight()\n",
    "        \n",
    "        \n",
    "    def update_token(self, token_name, price, quantity):\n",
    "        self.tokens[token_name].update(quantity, price)\n",
    "    "
   ]
  },
  {
   "cell_type": "code",
   "execution_count": 4,
   "metadata": {},
   "outputs": [],
   "source": [
    "btc = Token(\"BTC\")\n",
    "btc.update(0.01, 20000)\n",
    "\n",
    "eth = Token(\"ETH\")\n",
    "eth.update(0.5, 1200)\n",
    "\n",
    "usdt  = Token(\"USDT\")\n",
    "usdt.update(100, 1)"
   ]
  },
  {
   "cell_type": "code",
   "execution_count": 5,
   "metadata": {},
   "outputs": [
    {
     "data": {
      "text/plain": [
       "{'BTC': <__main__.Token at 0x1ec60af5880>,\n",
       " 'ETH': <__main__.Token at 0x1ec60af51c0>,\n",
       " 'USDT': <__main__.Token at 0x1ec60af5760>}"
      ]
     },
     "execution_count": 5,
     "metadata": {},
     "output_type": "execute_result"
    }
   ],
   "source": [
    "pf = Portfolio()\n",
    "pf.add_token(btc)\n",
    "pf.add_token(eth)\n",
    "pf.add_token(usdt)\n",
    "\n",
    "pf.tokens"
   ]
  },
  {
   "cell_type": "code",
   "execution_count": 6,
   "metadata": {},
   "outputs": [
    {
     "data": {
      "text/plain": [
       "['BTCUSDT', 'ETHUSDT', 'USDTUSDT']"
      ]
     },
     "execution_count": 6,
     "metadata": {},
     "output_type": "execute_result"
    }
   ],
   "source": [
    "pf.symbols"
   ]
  },
  {
   "cell_type": "code",
   "execution_count": 7,
   "metadata": {},
   "outputs": [
    {
     "data": {
      "text/plain": [
       "900.0"
      ]
     },
     "execution_count": 7,
     "metadata": {},
     "output_type": "execute_result"
    }
   ],
   "source": [
    "pf.net_wealth"
   ]
  },
  {
   "cell_type": "code",
   "execution_count": 8,
   "metadata": {},
   "outputs": [
    {
     "data": {
      "text/plain": [
       "{'BTC': 0.2222222222222222,\n",
       " 'ETH': 0.6666666666666666,\n",
       " 'USDT': 0.1111111111111111}"
      ]
     },
     "execution_count": 8,
     "metadata": {},
     "output_type": "execute_result"
    }
   ],
   "source": [
    "pf.weights"
   ]
  },
  {
   "cell_type": "code",
   "execution_count": 9,
   "metadata": {},
   "outputs": [
    {
     "data": {
      "text/plain": [
       "['BTCUSDT', 'ETHUSDT', 'USDTUSDT']"
      ]
     },
     "execution_count": 9,
     "metadata": {},
     "output_type": "execute_result"
    }
   ],
   "source": [
    "pf.symbols"
   ]
  },
  {
   "cell_type": "code",
   "execution_count": 12,
   "metadata": {},
   "outputs": [],
   "source": [
    "pf.drop_token(\"BTC\")"
   ]
  },
  {
   "cell_type": "code",
   "execution_count": 13,
   "metadata": {},
   "outputs": [
    {
     "data": {
      "text/plain": [
       "['ETHUSDT', 'USDTUSDT']"
      ]
     },
     "execution_count": 13,
     "metadata": {},
     "output_type": "execute_result"
    }
   ],
   "source": [
    "pf.symbols"
   ]
  },
  {
   "cell_type": "code",
   "execution_count": 14,
   "metadata": {},
   "outputs": [],
   "source": [
    "pf.update_token(\"ETH\", 2400, 2)"
   ]
  },
  {
   "cell_type": "code",
   "execution_count": 16,
   "metadata": {},
   "outputs": [
    {
     "data": {
      "text/plain": [
       "4800"
      ]
     },
     "execution_count": 16,
     "metadata": {},
     "output_type": "execute_result"
    }
   ],
   "source": [
    "pf.tokens[\"ETH\"].value"
   ]
  }
 ],
 "metadata": {
  "kernelspec": {
   "display_name": "Python 3",
   "language": "python",
   "name": "python3"
  },
  "language_info": {
   "codemirror_mode": {
    "name": "ipython",
    "version": 3
   },
   "file_extension": ".py",
   "mimetype": "text/x-python",
   "name": "python",
   "nbconvert_exporter": "python",
   "pygments_lexer": "ipython3",
   "version": "3.9.6 (tags/v3.9.6:db3ff76, Jun 28 2021, 15:26:21) [MSC v.1929 64 bit (AMD64)]"
  },
  "orig_nbformat": 4,
  "vscode": {
   "interpreter": {
    "hash": "dacff523af297f253b96c08a95a52f4913b3d66f2abacce976f8fdea6b18462e"
   }
  }
 },
 "nbformat": 4,
 "nbformat_minor": 2
}
